{
 "cells": [
  {
   "cell_type": "code",
   "execution_count": null,
   "metadata": {},
   "outputs": [],
   "source": [
    "import numpy as np\n",
    "import pandas as pd\n",
    "import logging\n",
    "import ipywidgets as widgets\n",
    "import matplotlib.pyplot as plt\n",
    "import itertools"
   ]
  },
  {
   "cell_type": "code",
   "execution_count": null,
   "metadata": {},
   "outputs": [],
   "source": [
    "from sompy.sompy import SOMFactory"
   ]
  },
  {
   "cell_type": "code",
   "execution_count": null,
   "metadata": {},
   "outputs": [],
   "source": [
    "import Parse_SOM\n",
    "from tfprop_sompy.utils.data import calculate_SOM_radius"
   ]
  },
  {
   "cell_type": "code",
   "execution_count": null,
   "metadata": {},
   "outputs": [],
   "source": [
    "logging.getLogger().setLevel(logging.WARNING)"
   ]
  },
  {
   "cell_type": "code",
   "execution_count": null,
   "metadata": {},
   "outputs": [],
   "source": [
    "fin = 'data/Updated_PCM.csv'"
   ]
  },
  {
   "cell_type": "code",
   "execution_count": null,
   "metadata": {},
   "outputs": [],
   "source": [
    "mapsize = (50, 50)\n",
    "n_job = 4\n",
    "mats_data_df = Parse_SOM.properties_dataframe_from_file(fin)"
   ]
  },
  {
   "cell_type": "code",
   "execution_count": null,
   "metadata": {},
   "outputs": [],
   "source": [
    "# Replace spaces in the column names with underscores so they play nice with pandas\n",
    "mats_data_df.columns = (*map(lambda x: x.replace(' ', '_'), mats_data_df.columns), )"
   ]
  },
  {
   "cell_type": "code",
   "execution_count": null,
   "metadata": {},
   "outputs": [],
   "source": [
    "# This is just for reference, these are all the non-computed properties.\n",
    "original_columns = ['Youngs_modulus',\n",
    " 'Yield_strength',\n",
    " 'Tensile_strength',\n",
    " 'Compressive_strength',\n",
    " 'Flexural_modulus',\n",
    " 'Flexural_strength',\n",
    " 'Shear_modulus',\n",
    " 'Bulk_modulus',\n",
    " 'Poisson_ratio',\n",
    " 'Fatigue_strength',\n",
    " 'Fracture_toughness',\n",
    " 'Melting_point',\n",
    " 'Max_service_temp',\n",
    " 'Min_service_temp',\n",
    " 'Thermal_conductivity',\n",
    " 'Specific_heat_capacity',\n",
    " 'Thermal_expansion_coefficient',\n",
    " 'Latent_heat_of_fusion',\n",
    " 'Electrical_resistivity',\n",
    " 'Electrical_conductivity',\n",
    " 'Galvanic_potential',\n",
    " 'Mechanical_loss_coefficient']"
   ]
  },
  {
   "cell_type": "code",
   "execution_count": null,
   "metadata": {},
   "outputs": [],
   "source": [
    "# Remove columns from here once you've either found them to be useless\n",
    "# Or a definite \"In\" - put the ones you're keeping in \"fixed_columns\"\n",
    "varying_columns = [\n",
    " 'Electrical_conductivity',]"
   ]
  },
  {
   "cell_type": "code",
   "execution_count": null,
   "metadata": {},
   "outputs": [],
   "source": [
    "# Place columns you've made a definite decision on including here\n",
    "fixed_columns = [\n",
    " 'Youngs_modulus',\n",
    " 'Yield_strength',\n",
    " 'Poisson_ratio',\n",
    " 'Fatigue_strength',\n",
    " 'Fracture_toughness',\n",
    " 'Melting_point',\n",
    " 'Thermal_conductivity',\n",
    " 'Specific_heat_capacity',\n",
    " 'Thermal_expansion_coefficient',\n",
    " 'Latent_heat_of_fusion',]"
   ]
  },
  {
   "cell_type": "code",
   "execution_count": null,
   "metadata": {},
   "outputs": [],
   "source": [
    "# Drop materials that don't have these properties\n",
    "mats_data_df.dropna(subset=varying_columns+fixed_columns, inplace=True)"
   ]
  },
  {
   "cell_type": "code",
   "execution_count": null,
   "metadata": {},
   "outputs": [],
   "source": [
    "# Fill in good PCM names here\n",
    "good_pcms_list = ['Cadmium, commercial purity',\n",
    " 'Copper-cadmium alloy, C16200, hard (h.c. copper)',\n",
    " 'Copper-cadmium alloy, C16200, soft (h.c. copper)']"
   ]
  },
  {
   "cell_type": "code",
   "execution_count": null,
   "metadata": {},
   "outputs": [],
   "source": [
    "def powerset(iterable):\n",
    "    \"powerset([1,2,3]) --> () (1,) (2,) (3,) (1,2) (1,3) (2,3) (1,2,3)\"\n",
    "    s = list(iterable)\n",
    "    return itertools.chain.from_iterable(itertools.combinations(s, r) for r in range(len(s)+1))"
   ]
  },
  {
   "cell_type": "code",
   "execution_count": null,
   "metadata": {},
   "outputs": [],
   "source": [
    "# Add the fixed columns to every iterated set\n",
    "column_set_iterator = map(lambda x: fixed_columns + list(iter(x)), powerset(varying_columns))"
   ]
  },
  {
   "cell_type": "code",
   "execution_count": null,
   "metadata": {},
   "outputs": [],
   "source": [
    "radius_df = pd.DataFrame(columns=['SOM_radius'])\n",
    "\n",
    "for column_set in column_set_iterator:\n",
    "    descr = mats_data_df[column_set].values\n",
    "    sm = SOMFactory.build(descr, mapsize=mapsize, normalization='var', \n",
    "                          initialization='pca', component_names=column_set)\n",
    "    # This will take some time\n",
    "    sm.train(n_job=n_job, train_rough_len=0, train_finetune_len=0)\n",
    "    \n",
    "    radius_df.loc[\", \".join(column_set)] = calculate_SOM_radius(mats_data_df, good_pcms_list, sm)[0]\n",
    "    \n",
    "    # Prevent too many maps from eating too much memory\n",
    "    del sm\n",
    "    "
   ]
  },
  {
   "cell_type": "code",
   "execution_count": null,
   "metadata": {},
   "outputs": [],
   "source": [
    "radius_df"
   ]
  }
 ],
 "metadata": {
  "kernelspec": {
   "display_name": "Python 3",
   "language": "python",
   "name": "python3"
  },
  "language_info": {
   "codemirror_mode": {
    "name": "ipython",
    "version": 3
   },
   "file_extension": ".py",
   "mimetype": "text/x-python",
   "name": "python",
   "nbconvert_exporter": "python",
   "pygments_lexer": "ipython3",
   "version": "3.7.3"
  }
 },
 "nbformat": 4,
 "nbformat_minor": 2
}
