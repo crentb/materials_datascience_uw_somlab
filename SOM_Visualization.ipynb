{
 "cells": [
  {
   "cell_type": "code",
   "execution_count": null,
   "metadata": {},
   "outputs": [],
   "source": [
    "import numpy as np\n",
    "import pandas as pd\n",
    "import logging\n",
    "import ipywidgets as widgets\n",
    "import matplotlib.pyplot as plt"
   ]
  },
  {
   "cell_type": "code",
   "execution_count": null,
   "metadata": {},
   "outputs": [],
   "source": [
    "import tables"
   ]
  },
  {
   "cell_type": "code",
   "execution_count": null,
   "metadata": {},
   "outputs": [],
   "source": [
    "import sompy\n",
    "from sompy.sompy import SOMFactory"
   ]
  },
  {
   "cell_type": "code",
   "execution_count": null,
   "metadata": {},
   "outputs": [],
   "source": [
    "from tfprop_sompy.jupyter_integration.cluster_inspector import sort_materials_by_cluster, cluster_tabs"
   ]
  },
  {
   "cell_type": "code",
   "execution_count": null,
   "metadata": {},
   "outputs": [],
   "source": [
    "from tfprop_sompy.tfprop_vis import render_posmap_to_axes, kmeans_clust, show_posmap, ViewTFP"
   ]
  },
  {
   "cell_type": "code",
   "execution_count": null,
   "metadata": {},
   "outputs": [],
   "source": [
    "# This makes all the loggers stay quiet unless it's important\n",
    "logging.getLogger().setLevel(logging.WARNING)"
   ]
  },
  {
   "cell_type": "code",
   "execution_count": null,
   "metadata": {},
   "outputs": [],
   "source": [
    "## CONSTANTS\n",
    "CODEBOOK_FILE = 'som_codemat_22props_modified_19-04-30.h5'\n",
    "# CODEBOOK_FILE = 'som_codemat_23props_19-03-01.h5'\n",
    "KM_CLUSTERS = 12"
   ]
  },
  {
   "cell_type": "code",
   "execution_count": null,
   "metadata": {},
   "outputs": [],
   "source": [
    "stored_cb_matrix = pd.read_hdf(CODEBOOK_FILE, 'sm_codebook_matrix')\n",
    "stored_mapsize = pd.read_hdf(CODEBOOK_FILE, 'sm_codebook_mapsize').values\n",
    "mats_df = pd.read_hdf(CODEBOOK_FILE, 'sm_data')\n",
    "\n",
    "# FIXME:\n",
    "# We do a hack using the \"pytables\" library in order to extract the information\n",
    "# For some reason pandas doesn't like to read object series out of h5 files\n",
    "stored_columns = None\n",
    "stored_matfamilies = None\n",
    "with tables.open_file(CODEBOOK_FILE, \"r\") as store:\n",
    "    # We normally get byte strings from this\n",
    "    # The mapping operation turns them all into unicode strings ready for presentation\n",
    "    stored_columns = list(map(lambda x: x.decode('utf-8'), store.root.sm_codebook_columns.property_names.read()))\n",
    "    stored_matfamilies = list(map(lambda x: x.decode('utf-8'), store.root.sm_codebook_matfamilies.material_families.read()))"
   ]
  },
  {
   "cell_type": "code",
   "execution_count": null,
   "metadata": {},
   "outputs": [],
   "source": [
    "mats_df[\"Material_family\"] = stored_matfamilies"
   ]
  },
  {
   "cell_type": "code",
   "execution_count": null,
   "metadata": {},
   "outputs": [],
   "source": [
    "sm = SOMFactory.build(mats_df[stored_columns].values, \n",
    "                mapsize=(*stored_mapsize,),\n",
    "                normalization=\"var\", \n",
    "                initialization=\"pca\", \n",
    "                component_names=stored_columns)"
   ]
  },
  {
   "cell_type": "code",
   "execution_count": null,
   "metadata": {},
   "outputs": [],
   "source": [
    "sm.codebook.matrix = stored_cb_matrix.values"
   ]
  },
  {
   "cell_type": "code",
   "execution_count": null,
   "metadata": {},
   "outputs": [],
   "source": [
    "def create_posmap(mysom: sompy.sompy.SOM, num_clusters: int=KM_CLUSTERS):\n",
    "    cl_labels = kmeans_clust(mysom, n_clusters=num_clusters)\n",
    "\n",
    "    # plot positioning map with clustered groups\n",
    "    show_posmap(mysom, mats_name_df, mats_name_df,\n",
    "                num_clusters, cl_labels,\n",
    "                show_data=False, labels=False)"
   ]
  },
  {
   "cell_type": "code",
   "execution_count": null,
   "metadata": {},
   "outputs": [],
   "source": [
    "cl_labels = kmeans_clust(sm, KM_CLUSTERS)"
   ]
  },
  {
   "cell_type": "code",
   "execution_count": null,
   "metadata": {},
   "outputs": [],
   "source": [
    "heatmap_size = (20, 20)\n",
    "heatmap_col_sz = 4\n",
    "gauss_alpha = None\n",
    "\n",
    "cmap = plt.get_cmap('RdYlBu_r')  # set color map\n",
    "viewTFP = ViewTFP(*heatmap_size, '', stdev_colorscale_coeff=1., text_size=14)"
   ]
  },
  {
   "cell_type": "code",
   "execution_count": null,
   "metadata": {
    "scrolled": false
   },
   "outputs": [],
   "source": [
    "my_out = widgets.Output()\n",
    "\n",
    "# No scaling\n",
    "viewTFP.knee_value = 0.0\n",
    "with my_out:\n",
    "    print(\"Linear scaling\")\n",
    "    viewTFP.show(sm, cl_labels, col_sz=heatmap_col_sz,\n",
    "                         which_dim='all', desnormalize=True, col_norm='mean',\n",
    "                         cmap=cmap, isOutHtmap=False)\n",
    "my_out"
   ]
  },
  {
   "cell_type": "code",
   "execution_count": null,
   "metadata": {
    "scrolled": false
   },
   "outputs": [],
   "source": [
    "my_out = widgets.Output()\n",
    "cmap = plt.get_cmap('RdYlBu_r')  # set color map\n",
    "\n",
    "# No scaling\n",
    "viewTFP.knee_value = 0.0\n",
    "with my_out:\n",
    "    print(\"Log scaling\")\n",
    "    viewTFP.show(sm, cl_labels, col_sz=heatmap_col_sz,\n",
    "                         which_dim='all', desnormalize=True, col_norm='mean',\n",
    "                         cmap=cmap, normalizer=\"log\")\n",
    "my_out"
   ]
  },
  {
   "cell_type": "code",
   "execution_count": null,
   "metadata": {
    "scrolled": false
   },
   "outputs": [],
   "source": [
    "# viewTFP2 = ViewTFP(*(7, 7), '', stdev_colorscale_coeff=1,text_size=14)\n",
    "# for i, p in enumerate(stored_columns):\n",
    "#     viewTFP2.show(sm, cl_labels, col_sz=1,\n",
    "#                      which_dim=i, desnormalize=True, col_norm='mean',\n",
    "#                      cmap=cmap, normalizer=\"log\", isOutHtmap=False)"
   ]
  },
  {
   "cell_type": "code",
   "execution_count": null,
   "metadata": {},
   "outputs": [],
   "source": [
    "# from sompy.visualization.mapview import View2D\n",
    "\n",
    "# my_out = widgets.Output()\n",
    "# cmap = plt.get_cmap('RdYlBu_r')  # set color map\n",
    "\n",
    "# view2d = View2D(*heatmap_size, '', stdev_colorscale_coeff=1., text_size=14)\n",
    "# # No scaling\n",
    "# viewTFP.knee_value = 0.0\n",
    "# with my_out:\n",
    "#     print(\"Log scaling\")\n",
    "#     viewTFP.show(sm, cl_labels, col_sz=heatmap_col_sz,\n",
    "#                          which_dim='all', desnormalize=True, col_norm='mean',\n",
    "#                          cmap=cmap, normalizer=\"log\")\n",
    "# my_out"
   ]
  },
  {
   "cell_type": "code",
   "execution_count": null,
   "metadata": {
    "scrolled": false
   },
   "outputs": [],
   "source": [
    "%matplotlib inline\n",
    "my_dataframe = mats_df\n",
    "clusters_list = sort_materials_by_cluster(sm, my_dataframe, cl_labels)\n",
    "\n",
    "# This makes it so it will display the full lists\n",
    "pd.set_option('display.max_rows', 2000)\n",
    "pd.set_option('display.max_columns', 50)\n",
    "pd.set_option('display.width', 1000)\n",
    "\n",
    "# This should be the last statement of the cell, to make it display\n",
    "# That, or assign the return value to a variable, and have that variable be the final expression in a cell\n",
    "cluster_tabs(sm, my_dataframe, clusters_list, cl_labels)"
   ]
  },
  {
   "cell_type": "code",
   "execution_count": null,
   "metadata": {},
   "outputs": [],
   "source": []
  },
  {
   "cell_type": "code",
   "execution_count": null,
   "metadata": {},
   "outputs": [],
   "source": [
    "from tfprop_sompy.tfprop_vis import UMatrixTFP\n",
    "\n",
    "umat_size = (50, 50)\n",
    "\n",
    "umat = UMatrixTFP(*umat_size, 'U-matrix')\n",
    "\n",
    "umat.show(sm, my_dataframe, my_dataframe, '', cmap=cmap)\n",
    "None"
   ]
  },
  {
   "cell_type": "code",
   "execution_count": null,
   "metadata": {},
   "outputs": [],
   "source": [
    "# Run cells below this one manually\n",
    "assert False"
   ]
  },
  {
   "cell_type": "code",
   "execution_count": null,
   "metadata": {},
   "outputs": [],
   "source": [
    "from tfprop_sompy.jupyter_integration.cluster_inspector import make_cluster_graph\n",
    "from tfprop_sompy.tfprop_vis import dataframe_to_coords, render_points_to_axes"
   ]
  },
  {
   "cell_type": "code",
   "execution_count": null,
   "metadata": {},
   "outputs": [],
   "source": [
    "fig, ax = make_cluster_graph(sm, cl_labels)"
   ]
  },
  {
   "cell_type": "code",
   "execution_count": null,
   "metadata": {},
   "outputs": [],
   "source": [
    "# Replace mats_list_copper with an appropriate list of materials you want to look at\n",
    "render_points_to_axes(ax, dataframe_to_coords(sm, my_dataframe.loc[mats_list_copper]))"
   ]
  },
  {
   "cell_type": "code",
   "execution_count": null,
   "metadata": {},
   "outputs": [],
   "source": [
    "fig"
   ]
  },
  {
   "cell_type": "code",
   "execution_count": null,
   "metadata": {},
   "outputs": [],
   "source": [
    "crds = dataframe_to_coords"
   ]
  },
  {
   "cell_type": "code",
   "execution_count": null,
   "metadata": {},
   "outputs": [],
   "source": [
    "type(my_dataframe)"
   ]
  },
  {
   "cell_type": "code",
   "execution_count": null,
   "metadata": {},
   "outputs": [],
   "source": [
    "my_dataframe.filter(clusters_list[3], axis='index')"
   ]
  },
  {
   "cell_type": "code",
   "execution_count": null,
   "metadata": {},
   "outputs": [],
   "source": [
    "from importlib import reload\n",
    "from tfprop_sompy.jupyter_integration import cluster_inspector\n",
    "reload(cluster_inspector)\n",
    "from tfprop_sompy.jupyter_integration.cluster_inspector import sort_materials_by_cluster, cluster_tabs\n",
    "None"
   ]
  },
  {
   "cell_type": "code",
   "execution_count": null,
   "metadata": {},
   "outputs": [],
   "source": [
    "from tfprop_sompy import tfprop_vis\n",
    "reload(tfprop_vis)\n",
    "None"
   ]
  },
  {
   "cell_type": "code",
   "execution_count": null,
   "metadata": {
    "scrolled": false
   },
   "outputs": [],
   "source": [
    "from importlib import reload\n",
    "from tfprop_sompy.utils import data\n",
    "reload(data)\n",
    "from tfprop_sompy.utils.data import calculate_SOM_radius, calculate_euclidean_radius\n",
    "None"
   ]
  },
  {
   "cell_type": "code",
   "execution_count": null,
   "metadata": {},
   "outputs": [],
   "source": [
    "sm.project_data(my_dataframe[stored_columns].values)"
   ]
  },
  {
   "cell_type": "code",
   "execution_count": null,
   "metadata": {},
   "outputs": [],
   "source": [
    "np.all(sm.project_data(sm.data_raw) == sm.project_data(my_dataframe[stored_columns].values))"
   ]
  },
  {
   "cell_type": "code",
   "execution_count": null,
   "metadata": {},
   "outputs": [],
   "source": [
    "my_dataframe[stored_columns].values.shape"
   ]
  },
  {
   "cell_type": "code",
   "execution_count": null,
   "metadata": {},
   "outputs": [],
   "source": [
    "my_dataframe.filter(regex=\"[Cc]admium\", axis=\"index\")"
   ]
  },
  {
   "cell_type": "code",
   "execution_count": null,
   "metadata": {},
   "outputs": [],
   "source": [
    "my_dataframe.loc[my_dataframe.groupby(\"Material_family\").groups['Metal (ferrous)']]"
   ]
  },
  {
   "cell_type": "code",
   "execution_count": null,
   "metadata": {},
   "outputs": [],
   "source": [
    "pd.Index([])"
   ]
  },
  {
   "cell_type": "code",
   "execution_count": null,
   "metadata": {},
   "outputs": [],
   "source": [
    "grouped_index = pd.Index([])\n",
    "grouped_df = my_dataframe.groupby(\"Material_family\")\n",
    "for (matgroup, indices) in grouped_df.groups.items():\n",
    "    if matgroup.startswith(\"Metal\"):\n",
    "        # \n",
    "        grouped_index = pd.Index([*grouped_index, *grouped_df.groups[matgroup]])\n",
    "\n",
    "my_dataframe.loc[grouped_index]"
   ]
  },
  {
   "cell_type": "code",
   "execution_count": null,
   "metadata": {
    "scrolled": false
   },
   "outputs": [],
   "source": [
    "sm.bmu_ind_to_xy(sm.project_data(my_dataframe.filter(regex=\"cadmium\", axis=\"index\")[stored_columns].values))"
   ]
  },
  {
   "cell_type": "code",
   "execution_count": null,
   "metadata": {},
   "outputs": [],
   "source": [
    "mats_list = list(my_dataframe.filter(regex=\"[Cc]opper\", axis=\"index\").index)"
   ]
  },
  {
   "cell_type": "code",
   "execution_count": null,
   "metadata": {},
   "outputs": [],
   "source": [
    "from tfprop_sompy.utils.data import calculate_SOM_radius, calculate_euclidean_radius"
   ]
  },
  {
   "cell_type": "code",
   "execution_count": null,
   "metadata": {},
   "outputs": [],
   "source": [
    "mats_list_copper = list(my_dataframe.filter(regex=\"([Cc]opper|Cu[^s])\", axis=\"index\").index)"
   ]
  },
  {
   "cell_type": "code",
   "execution_count": null,
   "metadata": {},
   "outputs": [],
   "source": [
    "mats_list_steel = list(my_dataframe.filter(regex=\"[Ss]teel\", axis=\"index\").index)"
   ]
  },
  {
   "cell_type": "code",
   "execution_count": null,
   "metadata": {},
   "outputs": [],
   "source": [
    "mats_list_cadmium = list(my_dataframe.filter(regex=\"[Cc]admium\", axis=\"index\").index)"
   ]
  },
  {
   "cell_type": "code",
   "execution_count": null,
   "metadata": {},
   "outputs": [],
   "source": [
    "mats_list_unlike = mats_list_copper + mats_list_steel"
   ]
  },
  {
   "cell_type": "code",
   "execution_count": null,
   "metadata": {
    "scrolled": true
   },
   "outputs": [],
   "source": [
    "calculate_SOM_radius(my_dataframe, mats_list_copper, sm)"
   ]
  },
  {
   "cell_type": "code",
   "execution_count": null,
   "metadata": {
    "scrolled": true
   },
   "outputs": [],
   "source": [
    "calculate_euclidean_radius(my_dataframe, mats_list_copper, stored_columns)"
   ]
  },
  {
   "cell_type": "code",
   "execution_count": null,
   "metadata": {
    "scrolled": true
   },
   "outputs": [],
   "source": [
    "calculate_SOM_radius(my_dataframe, mats_list_steel, sm)"
   ]
  },
  {
   "cell_type": "code",
   "execution_count": null,
   "metadata": {
    "scrolled": true
   },
   "outputs": [],
   "source": [
    "calculate_euclidean_radius(my_dataframe, mats_list_steel, stored_columns)"
   ]
  },
  {
   "cell_type": "code",
   "execution_count": null,
   "metadata": {
    "scrolled": true
   },
   "outputs": [],
   "source": [
    "calculate_SOM_radius(my_dataframe, mats_list_unlike, sm)"
   ]
  },
  {
   "cell_type": "code",
   "execution_count": null,
   "metadata": {
    "scrolled": true
   },
   "outputs": [],
   "source": [
    "calculate_euclidean_radius(my_dataframe, mats_list_unlike, stored_columns)"
   ]
  },
  {
   "cell_type": "code",
   "execution_count": null,
   "metadata": {
    "scrolled": true
   },
   "outputs": [],
   "source": [
    "calculate_SOM_radius(my_dataframe, mats_list_cadmium, sm)"
   ]
  },
  {
   "cell_type": "code",
   "execution_count": null,
   "metadata": {
    "scrolled": true
   },
   "outputs": [],
   "source": [
    "calculate_euclidean_radius(my_dataframe, mats_list_cadmium, stored_columns)"
   ]
  },
  {
   "cell_type": "code",
   "execution_count": null,
   "metadata": {},
   "outputs": [],
   "source": []
  },
  {
   "cell_type": "code",
   "execution_count": null,
   "metadata": {},
   "outputs": [],
   "source": [
    "sm.codebook.matrix"
   ]
  },
  {
   "cell_type": "code",
   "execution_count": null,
   "metadata": {},
   "outputs": [],
   "source": [
    "sm.codebook.matrix.shape"
   ]
  },
  {
   "cell_type": "code",
   "execution_count": null,
   "metadata": {},
   "outputs": [],
   "source": [
    "sm._data"
   ]
  }
 ],
 "metadata": {
  "kernelspec": {
   "display_name": "Python 3",
   "language": "python",
   "name": "python3"
  },
  "language_info": {
   "codemirror_mode": {
    "name": "ipython",
    "version": 3
   },
   "file_extension": ".py",
   "mimetype": "text/x-python",
   "name": "python",
   "nbconvert_exporter": "python",
   "pygments_lexer": "ipython3",
   "version": "3.7.3"
  }
 },
 "nbformat": 4,
 "nbformat_minor": 2
}
